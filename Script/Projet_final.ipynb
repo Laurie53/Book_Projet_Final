{
 "cells": [
  {
   "cell_type": "markdown",
   "metadata": {},
   "source": [
    "# Système de gestion d’emprunt dans une librairie"
   ]
  },
  {
   "cell_type": "code",
   "execution_count": 1,
   "metadata": {},
   "outputs": [],
   "source": [
    "# Importation\n",
    "from pyspark.sql import SparkSession\n",
    "from pyspark.sql import functions as F\n",
    "from pyspark.sql.functions import datediff, to_date\n",
    "import os, shutil"
   ]
  },
  {
   "cell_type": "code",
   "execution_count": 2,
   "metadata": {},
   "outputs": [],
   "source": [
    "# Instantiation\n",
    "spark = SparkSession.builder \\\n",
    "                    .master(\"local\") \\\n",
    "                    .appName(\"FolksDF\") \\\n",
    "                    .getOrCreate()"
   ]
  },
  {
   "cell_type": "markdown",
   "metadata": {},
   "source": [
    "**Question 0 - Créer les données.**\n"
   ]
  },
  {
   "cell_type": "code",
   "execution_count": 3,
   "metadata": {},
   "outputs": [
    {
     "name": "stdout",
     "output_type": "stream",
     "text": [
      "+-----+-----------------+\n",
      "|  aid|             name|\n",
      "+-----+-----------------+\n",
      "|07890| Jean Paul Sartre|\n",
      "|05678|Pierre de Ronsard|\n",
      "+-----+-----------------+\n",
      "\n"
     ]
    }
   ],
   "source": [
    "l1 = [('07890','Jean Paul Sartre'),('05678','Pierre de Ronsard')]\n",
    "rdd1 = spark.sparkContext.parallelize(l1) #On obtient un rdd\n",
    "Author = rdd1.toDF(['aid','name']) #Transformation en dataframe\n",
    "Author.createOrReplaceTempView('AuthorSQL') #Pour les requêtes SQL\n",
    "Author.show()"
   ]
  },
  {
   "cell_type": "code",
   "execution_count": 4,
   "metadata": {},
   "outputs": [
    {
     "name": "stdout",
     "output_type": "stream",
     "text": [
      "+----+--------------------+-----------+\n",
      "| bid|               title|   category|\n",
      "+----+--------------------+-----------+\n",
      "|0001|L'existentialisme...|Philosophie|\n",
      "|0002|Huis clos. Suivi ...|Philosophie|\n",
      "|0003|Mignonne allons v...|      Poème|\n",
      "|0004|          Les Amours|      Poème|\n",
      "+----+--------------------+-----------+\n",
      "\n"
     ]
    }
   ],
   "source": [
    "l2 = [(\"0001\",\"L'existentialisme est un humanisme\",\"Philosophie\"),(\"0002\",\"Huis clos. Suivi de Les Mouches\",\"Philosophie\"),(\"0003\",\"Mignonne allons voir si la rose\",\"Poème\"),(\"0004\",\"Les Amours\",\"Poème\")]\n",
    "rdd2 = spark.sparkContext.parallelize(l2) \n",
    "book = rdd2.toDF(['bid','title','category']) \n",
    "book.createOrReplaceTempView('bookSQL') \n",
    "book.show()"
   ]
  },
  {
   "cell_type": "code",
   "execution_count": 5,
   "metadata": {},
   "outputs": [
    {
     "name": "stdout",
     "output_type": "stream",
     "text": [
      "+---+-----+---------+\n",
      "|sid|sname|     dept|\n",
      "+---+-----+---------+\n",
      "|S15| toto|     Math|\n",
      "|S16| popo|      Eco|\n",
      "|S17| fofo|Mécanique|\n",
      "+---+-----+---------+\n",
      "\n"
     ]
    }
   ],
   "source": [
    "l3 = [('S15','toto','Math'),('S16','popo','Eco'),('S17','fofo','Mécanique')]\n",
    "rdd3 = spark.sparkContext.parallelize(l3) \n",
    "Student = rdd3.toDF(['sid','sname','dept']) \n",
    "Student.createOrReplaceTempView('StudentSQL') \n",
    "Student.show()"
   ]
  },
  {
   "cell_type": "code",
   "execution_count": 6,
   "metadata": {},
   "outputs": [
    {
     "name": "stdout",
     "output_type": "stream",
     "text": [
      "+-----+----+\n",
      "|  aid| bid|\n",
      "+-----+----+\n",
      "|07890|0001|\n",
      "|07890|0002|\n",
      "|05678|0003|\n",
      "|05678|0004|\n",
      "+-----+----+\n",
      "\n"
     ]
    }
   ],
   "source": [
    "l4 = [('07890','0001'),('07890','0002'),('05678','0003'),('05678','0004')]\n",
    "rdd4 = spark.sparkContext.parallelize(l4) \n",
    "write = rdd4.toDF(['aid','bid']) \n",
    "write.createOrReplaceTempView('writeSQL') \n",
    "write.show()"
   ]
  },
  {
   "cell_type": "code",
   "execution_count": 7,
   "metadata": {},
   "outputs": [
    {
     "name": "stdout",
     "output_type": "stream",
     "text": [
      "+---+----+-------------+-----------+\n",
      "|sid| bid|checkout-time|return-time|\n",
      "+---+----+-------------+-----------+\n",
      "|S15|0003|   02-01-2020| 01-02-2020|\n",
      "|S15|0002|   13-06-2020|       null|\n",
      "|S15|0001|   13-06-2020| 13-10-2020|\n",
      "|S16|0002|   24-01-2020| 24-01-2020|\n",
      "|S17|0001|   12-04-2020| 01-07-2020|\n",
      "+---+----+-------------+-----------+\n",
      "\n"
     ]
    }
   ],
   "source": [
    "l5 = [('S15','0003','02-01-2020','01-02-2020'),('S15','0002','13-06-2020','null'),('S15','0001','13-06-2020','13-10-2020'),('S16','0002','24-01-2020','24-01-2020'),('S17','0001','12-04-2020','01-07-2020')]\n",
    "rdd5 = spark.sparkContext.parallelize(l5) \n",
    "borrow = rdd5.toDF(['sid','bid','checkout-time','return-time']) \n",
    "borrow.createOrReplaceTempView('borrowSQL') \n",
    "borrow.show()"
   ]
  },
  {
   "cell_type": "markdown",
   "metadata": {},
   "source": [
    "**Question 1 - Trouver les titres de tous les livres que l'étudiant sid='S15' a emprunté.**\n",
    "\n"
   ]
  },
  {
   "cell_type": "code",
   "execution_count": 8,
   "metadata": {},
   "outputs": [
    {
     "name": "stdout",
     "output_type": "stream",
     "text": [
      "+---+--------------------+\n",
      "|sid|               title|\n",
      "+---+--------------------+\n",
      "|S15|Huis clos. Suivi ...|\n",
      "|S15|Mignonne allons v...|\n",
      "|S15|L'existentialisme...|\n",
      "+---+--------------------+\n",
      "\n"
     ]
    }
   ],
   "source": [
    "### SQL\n",
    "spark.sql(''' select sid, title\n",
    "            from bookSQL \n",
    "            join borrowSQL\n",
    "            on bookSQL.bid = borrowSQL.bid\n",
    "            where sid='S15' ''').show()"
   ]
  },
  {
   "cell_type": "code",
   "execution_count": 9,
   "metadata": {},
   "outputs": [
    {
     "name": "stdout",
     "output_type": "stream",
     "text": [
      "+---+--------------------+\n",
      "|sid|               title|\n",
      "+---+--------------------+\n",
      "|S15|Huis clos. Suivi ...|\n",
      "|S15|Mignonne allons v...|\n",
      "|S15|L'existentialisme...|\n",
      "+---+--------------------+\n",
      "\n"
     ]
    }
   ],
   "source": [
    "### DSL\n",
    "book.join(borrow,['bid']) \\\n",
    "    .select('sid','title') \\\n",
    "    .filter(F.col('sid')=='S15') \\\n",
    "    .show()"
   ]
  },
  {
   "cell_type": "markdown",
   "metadata": {},
   "source": [
    "**Question 2 - Trouver les titres de tous les livres qui n'ont jamais été empruntés par un étudiant.**\n"
   ]
  },
  {
   "cell_type": "code",
   "execution_count": 10,
   "metadata": {},
   "outputs": [
    {
     "name": "stdout",
     "output_type": "stream",
     "text": [
      "+----+----------+\n",
      "| bid|     title|\n",
      "+----+----------+\n",
      "|0004|Les Amours|\n",
      "+----+----------+\n",
      "\n"
     ]
    }
   ],
   "source": [
    "### SQL\n",
    "spark.sql(''' select req.bid, bookSQL.title \n",
    "            from (select bid \n",
    "                from bookSQL\n",
    "                where bid not in (select bid from borrowSQL) ) req\n",
    "            join bookSQL on bookSQL.bid = req.bid ''').show()"
   ]
  },
  {
   "cell_type": "code",
   "execution_count": 11,
   "metadata": {},
   "outputs": [
    {
     "name": "stdout",
     "output_type": "stream",
     "text": [
      "+----+----------+\n",
      "| bid|     title|\n",
      "+----+----------+\n",
      "|0004|Les Amours|\n",
      "+----+----------+\n",
      "\n"
     ]
    }
   ],
   "source": [
    "### DSL\n",
    "book.join(borrow,'bid', how ='left') \\\n",
    "    .select('bid','title') \\\n",
    "    .filter(F.col(\"checkout-time\").isNull()) \\\n",
    "    .show() "
   ]
  },
  {
   "cell_type": "markdown",
   "metadata": {},
   "source": [
    "**Question 3 - Trouver tous les étudiants qui ont emprunté le livre bid=’002’**\n"
   ]
  },
  {
   "cell_type": "code",
   "execution_count": 12,
   "metadata": {},
   "outputs": [
    {
     "name": "stdout",
     "output_type": "stream",
     "text": [
      "+----+---+-----+\n",
      "| bid|sid|sname|\n",
      "+----+---+-----+\n",
      "|0002|S16| popo|\n",
      "|0002|S15| toto|\n",
      "+----+---+-----+\n",
      "\n"
     ]
    }
   ],
   "source": [
    "### SQL\n",
    "spark.sql(''' select bid, borrowSQL.sid, sname\n",
    "            from borrowSQL \n",
    "            join StudentSQL\n",
    "            on StudentSQL.sid = borrowSQL.sid\n",
    "            where bid='0002' ''').show()"
   ]
  },
  {
   "cell_type": "code",
   "execution_count": 13,
   "metadata": {},
   "outputs": [
    {
     "name": "stdout",
     "output_type": "stream",
     "text": [
      "+----+---+-----+\n",
      "| bid|sid|sname|\n",
      "+----+---+-----+\n",
      "|0002|S16| popo|\n",
      "|0002|S15| toto|\n",
      "+----+---+-----+\n",
      "\n"
     ]
    }
   ],
   "source": [
    "### DSL\n",
    "borrow.join(Student,['sid']) \\\n",
    "    .select('bid','sid','sname') \\\n",
    "    .filter(F.col('bid')=='0002') \\\n",
    "    .show()"
   ]
  },
  {
   "cell_type": "markdown",
   "metadata": {},
   "source": [
    "**Question 4 - Trouver les titres de tous les livres empruntés par des étudiants en Mécanique (département Mécanique)**\n"
   ]
  },
  {
   "cell_type": "code",
   "execution_count": 14,
   "metadata": {},
   "outputs": [
    {
     "name": "stdout",
     "output_type": "stream",
     "text": [
      "+---------+--------------------+\n",
      "|     dept|               title|\n",
      "+---------+--------------------+\n",
      "|Mécanique|L'existentialisme...|\n",
      "+---------+--------------------+\n",
      "\n"
     ]
    }
   ],
   "source": [
    "### SQL\n",
    "spark.sql(''' select req.dept, bookSQL.title \n",
    "            from (select borrowSQL.sid, bid, dept\n",
    "                from borrowSQL\n",
    "                join StudentSQL \n",
    "                on borrowSQL.sid = StudentSQL.sid\n",
    "                where dept='Mécanique' ) req\n",
    "            join bookSQL on bookSQL.bid = req.bid ''').show()"
   ]
  },
  {
   "cell_type": "code",
   "execution_count": 15,
   "metadata": {},
   "outputs": [
    {
     "name": "stdout",
     "output_type": "stream",
     "text": [
      "+---------+--------------------+\n",
      "|     dept|               title|\n",
      "+---------+--------------------+\n",
      "|Mécanique|L'existentialisme...|\n",
      "+---------+--------------------+\n",
      "\n"
     ]
    }
   ],
   "source": [
    "### DSL\n",
    "borrow.join(Student,['sid']) \\\n",
    "    .join(book,['bid']) \\\n",
    "    .select('dept','title') \\\n",
    "    .filter(F.col('dept')=='Mécanique')\\\n",
    "    .show()"
   ]
  },
  {
   "cell_type": "markdown",
   "metadata": {},
   "source": [
    "**Question 5 - Trouver les étudiants qui n’ont jamais emprunté de livre.**\n"
   ]
  },
  {
   "cell_type": "code",
   "execution_count": 16,
   "metadata": {},
   "outputs": [
    {
     "name": "stdout",
     "output_type": "stream",
     "text": [
      "+---+-----+\n",
      "|sid|sname|\n",
      "+---+-----+\n",
      "+---+-----+\n",
      "\n"
     ]
    }
   ],
   "source": [
    "### SQL\n",
    "spark.sql(''' select req.sid, StudentSQL.sname\n",
    "            from (select sid \n",
    "                from StudentSQL\n",
    "                where sid not in (select sid from borrowSQL) ) req\n",
    "            join StudentSQL on StudentSQL.sid = req.sid ''').show()"
   ]
  },
  {
   "cell_type": "markdown",
   "metadata": {},
   "source": [
    "Tous les étudiants ont emprunté au moins un livre."
   ]
  },
  {
   "cell_type": "code",
   "execution_count": 17,
   "metadata": {},
   "outputs": [
    {
     "name": "stdout",
     "output_type": "stream",
     "text": [
      "+---+-----+\n",
      "|sid|sname|\n",
      "+---+-----+\n",
      "+---+-----+\n",
      "\n"
     ]
    }
   ],
   "source": [
    "### DSL\n",
    "Student.join(borrow,'sid', how ='left') \\\n",
    "    .select('sid','sname') \\\n",
    "    .filter(F.col(\"checkout-time\").isNull()) \\\n",
    "    .show() "
   ]
  },
  {
   "cell_type": "markdown",
   "metadata": {},
   "source": [
    "**Question 6 - Déterminer l’auteur qui a écrit le plus de livres.**\n"
   ]
  },
  {
   "cell_type": "code",
   "execution_count": 18,
   "metadata": {},
   "outputs": [
    {
     "name": "stdout",
     "output_type": "stream",
     "text": [
      "+-----+-----------------+---------+\n",
      "|  aid|             name|Nb_livres|\n",
      "+-----+-----------------+---------+\n",
      "|05678|Pierre de Ronsard|        2|\n",
      "|07890| Jean Paul Sartre|        2|\n",
      "+-----+-----------------+---------+\n",
      "\n"
     ]
    }
   ],
   "source": [
    "### SQL\n",
    "spark.sql(''' select W.aid, A.name, count(bid) as Nb_livres\n",
    "            from writeSQL as W \n",
    "            join AuthorSQL as A\n",
    "            on A.aid = W.aid\n",
    "            group by W.aid, A.name\n",
    "            order by Nb_livres desc''').show()"
   ]
  },
  {
   "cell_type": "code",
   "execution_count": 19,
   "metadata": {},
   "outputs": [
    {
     "name": "stdout",
     "output_type": "stream",
     "text": [
      "+-----+-----------------+---------+\n",
      "|  aid|             name|Nb_livres|\n",
      "+-----+-----------------+---------+\n",
      "|05678|Pierre de Ronsard|        2|\n",
      "|07890| Jean Paul Sartre|        2|\n",
      "+-----+-----------------+---------+\n",
      "\n"
     ]
    }
   ],
   "source": [
    "### DSL\n",
    "write.join(Author,'aid') \\\n",
    "    .select('aid','name','bid') \\\n",
    "    .groupBy('aid','name') \\\n",
    "    .agg(F.count('bid').alias('Nb_livres')) \\\n",
    "    .orderBy(F.col('Nb_livres').desc()) \\\n",
    "    .show() "
   ]
  },
  {
   "cell_type": "markdown",
   "metadata": {},
   "source": [
    "**Question 7 -  Déterminer les personnes qui n’ont pas encore rendu les livres.**\n"
   ]
  },
  {
   "cell_type": "code",
   "execution_count": 20,
   "metadata": {},
   "outputs": [
    {
     "name": "stdout",
     "output_type": "stream",
     "text": [
      "+---+-----+-----------+\n",
      "|sid|sname|return-time|\n",
      "+---+-----+-----------+\n",
      "|S15| toto|       null|\n",
      "+---+-----+-----------+\n",
      "\n"
     ]
    }
   ],
   "source": [
    "### SQL\n",
    "spark.sql(''' select borrowSQL.sid, sname, `return-time`\n",
    "            from borrowSQL\n",
    "            join StudentSQL\n",
    "            on StudentSQL.sid = borrowSQL.sid\n",
    "            where `return-time`='null' ''').show()"
   ]
  },
  {
   "cell_type": "code",
   "execution_count": 21,
   "metadata": {},
   "outputs": [
    {
     "name": "stdout",
     "output_type": "stream",
     "text": [
      "+---+-----+-----------+\n",
      "|sid|sname|return-time|\n",
      "+---+-----+-----------+\n",
      "|S15| toto|       null|\n",
      "+---+-----+-----------+\n",
      "\n"
     ]
    }
   ],
   "source": [
    "### DSL\n",
    "borrow.join(Student,'sid') \\\n",
    "    .select('sid','sname','return-time') \\\n",
    "    .filter(F.col('return-time')=='null') \\\n",
    "    .show()"
   ]
  },
  {
   "cell_type": "markdown",
   "metadata": {},
   "source": [
    "**Question 8 - Créer une nouvelle colonne dans la table borrow qui prend la valeur 1, si la durée d'emprunt est supérieur à 3 mois,  sinon 0.  (utiliser la fonction spark to_date) par la suite faire un export des données en CSV. dans un répertoire nommé contention (Attention pas de path en dur ! )**\n"
   ]
  },
  {
   "cell_type": "code",
   "execution_count": 22,
   "metadata": {},
   "outputs": [
    {
     "name": "stdout",
     "output_type": "stream",
     "text": [
      "+---+----+-------------+-----------+-----+----+\n",
      "|sid| bid|checkout-time|return-time|duree|time|\n",
      "+---+----+-------------+-----------+-----+----+\n",
      "|S15|0003|   02-01-2020| 01-02-2020|   30|   0|\n",
      "|S15|0002|   13-06-2020|       null| null|   0|\n",
      "|S15|0001|   13-06-2020| 13-10-2020|  122|   1|\n",
      "|S16|0002|   24-01-2020| 24-01-2020|    0|   0|\n",
      "|S17|0001|   12-04-2020| 01-07-2020|   80|   0|\n",
      "+---+----+-------------+-----------+-----+----+\n",
      "\n"
     ]
    }
   ],
   "source": [
    "###SQL\n",
    "spark.sql('''select *,\n",
    "                case \n",
    "                    when duree >= 90 then 1\n",
    "                    else 0\n",
    "                end as time\n",
    "            from (select *, DATEDIFF(TO_DATE(`return-time`,\"dd-MM-yyyy\"),TO_DATE(`checkout-time`,\"dd-MM-yyyy\")) as duree\n",
    "            from borrowSQL)''').show()"
   ]
  },
  {
   "cell_type": "code",
   "execution_count": 23,
   "metadata": {},
   "outputs": [
    {
     "name": "stdout",
     "output_type": "stream",
     "text": [
      "+---+----+-------------+-----------+-----+\n",
      "|sid| bid|checkout-time|return-time|duree|\n",
      "+---+----+-------------+-----------+-----+\n",
      "|S15|0003|   02-01-2020| 01-02-2020|    0|\n",
      "|S15|0002|   13-06-2020|       null|    0|\n",
      "|S15|0001|   13-06-2020| 13-10-2020|    1|\n",
      "|S16|0002|   24-01-2020| 24-01-2020|    0|\n",
      "|S17|0001|   12-04-2020| 01-07-2020|    0|\n",
      "+---+----+-------------+-----------+-----+\n",
      "\n"
     ]
    }
   ],
   "source": [
    "###DSL\n",
    "Table = borrow.withColumn(\"duree\",\n",
    "                 datediff(to_date(\"return-time\",\"dd-MM-yyyy\"),\n",
    "                                  to_date(\"checkout-time\",\"dd-MM-yyyy\"))/30)\\\n",
    ".withColumn(\"duree\",F.when(F.col(\"duree\")>=3,1).otherwise(0))\n",
    "Table.show()"
   ]
  },
  {
   "cell_type": "code",
   "execution_count": 24,
   "metadata": {},
   "outputs": [],
   "source": [
    "#Exportation\n",
    "if os.path.exists(\"contention\"):\n",
    "        shutil.rmtree(\"contention\")\n",
    "Table.write.csv('contention', sep = ';', header = 'true')"
   ]
  },
  {
   "cell_type": "markdown",
   "metadata": {},
   "source": [
    "**Question 9 - Déterminer les livres qui n’ont jamais été empruntés.** \n"
   ]
  },
  {
   "cell_type": "code",
   "execution_count": 25,
   "metadata": {},
   "outputs": [
    {
     "name": "stdout",
     "output_type": "stream",
     "text": [
      "+----+\n",
      "| bid|\n",
      "+----+\n",
      "|0004|\n",
      "+----+\n",
      "\n"
     ]
    }
   ],
   "source": [
    "### SQL\n",
    "#solution 1\n",
    "spark.sql(''' select bid\n",
    "            from bookSQL\n",
    "            EXCEPT\n",
    "            select bid\n",
    "            from borrowSQL ''').show()"
   ]
  },
  {
   "cell_type": "code",
   "execution_count": 26,
   "metadata": {},
   "outputs": [
    {
     "name": "stdout",
     "output_type": "stream",
     "text": [
      "+----+\n",
      "| bid|\n",
      "+----+\n",
      "|0004|\n",
      "+----+\n",
      "\n"
     ]
    }
   ],
   "source": [
    "#solution2\n",
    "spark.sql('''select bid \n",
    "            from bookSQL\n",
    "            where bid not in (select bid \n",
    "                            from  borrowSQL)''').show()"
   ]
  },
  {
   "cell_type": "code",
   "execution_count": 27,
   "metadata": {},
   "outputs": [
    {
     "name": "stdout",
     "output_type": "stream",
     "text": [
      "+----+\n",
      "| bid|\n",
      "+----+\n",
      "|0004|\n",
      "+----+\n",
      "\n"
     ]
    }
   ],
   "source": [
    "### DSL\n",
    "book.join(borrow,'bid', how ='left') \\\n",
    "    .select('bid') \\\n",
    "    .filter(F.col(\"checkout-time\").isNull()) \\\n",
    "    .show() "
   ]
  }
 ],
 "metadata": {
  "kernelspec": {
   "display_name": "Python 3",
   "language": "python",
   "name": "python3"
  },
  "language_info": {
   "codemirror_mode": {
    "name": "ipython",
    "version": 3
   },
   "file_extension": ".py",
   "mimetype": "text/x-python",
   "name": "python",
   "nbconvert_exporter": "python",
   "pygments_lexer": "ipython3",
   "version": "3.8.5"
  }
 },
 "nbformat": 4,
 "nbformat_minor": 4
}
